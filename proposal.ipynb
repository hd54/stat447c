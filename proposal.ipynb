{
 "cells": [
  {
   "cell_type": "markdown",
   "metadata": {},
   "source": [
    "# Bayesian Regression & MLE for \n",
    "\n",
    "**Team member**: Hung Dinh - 19774520\n",
    "\n",
    "**Theme**: Bayesian vs Frequentist Approach on Regression - Student Performance\n",
    "\n",
    "**Github Repo**: https://github.com/hd54/stat447c\n",
    "\n",
    "All commits are done by me and me only.\n",
    "\n",
    "**Introduction**:\n",
    "\n",
    "Performance have always been a concern for a lot of students regardless of education level, whether it be high school, university, or college. Good performance can mean greater opportunities for higher education, awards, and even jobs, so students want to be successful in their courses. However, there's always a disparity in students' performance, which can be seen in grade distributions of exams, homework, etc. It's possible that students' background or how they treat the class affect their performance. This project seeks to see how different factors contribute to students' performance (in particular, final exam score or course grade letter).\n",
    "\n",
    "**Dataset**:\n",
    "\n",
    "Student performance may vary throughout the years due to societal changes, introduction of new technologies (such as ChatGPT), etc. This leads me to choose some of the more recent datasets as possible candidates:\n",
    "\n",
    "https://www.kaggle.com/datasets/lainguyn123/student-performance-factors\n",
    "\n",
    "https://www.kaggle.com/datasets/joebeachcapital/students-performance"
   ]
  },
  {
   "cell_type": "code",
   "execution_count": null,
   "metadata": {
    "vscode": {
     "languageId": "plaintext"
    }
   },
   "outputs": [],
   "source": [
    "library(tidyverse)"
   ]
  },
  {
   "cell_type": "markdown",
   "metadata": {},
   "source": [
    "**Approaches**:\n",
    "\n",
    "\n",
    "\n",
    "I can start simple with a comparative study of different types of regression using frequentist and Bayesian approach. I can do a comparative study on traditional (without penalty) and regularized regression for each approach. For frequentist approach, I can start by optimizing the number of variables used for regression through removing collinearity (i.e. we can use forward selection along with VIF analysis). I would expect to see regularized model to perform at least as well on predicting data due to the extra penalty added.\n",
    "\n",
    "For Bayesian approach, \n",
    "\n",
    "If given enough time, I can also study interaction effects, but I can achieve a (hopefully) reasonable multilinear regression model.\n",
    "\n",
    "**References**:\n",
    "https://haines-lab.com/post/on-the-equivalency-between-the-lasso-ridge-regression-and-specific-bayesian-priors/"
   ]
  },
  {
   "cell_type": "markdown",
   "metadata": {},
   "source": []
  }
 ],
 "metadata": {
  "language_info": {
   "name": "python"
  }
 },
 "nbformat": 4,
 "nbformat_minor": 2
}
