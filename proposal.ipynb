{
 "cells": [
  {
   "cell_type": "markdown",
   "metadata": {},
   "source": [
    "# Bayesian Regression & MLE for Student Performance Analysis\n",
    "\n",
    "**Team member**: Hung Dinh - 19774520\n",
    "\n",
    "**Theme**: Bayesian vs Frequentist Approach on Regression - Student Performance\n",
    "\n",
    "**Github Repo**: https://github.com/hd54/stat447c\n",
    "\n",
    "All commits are done by me and me only.\n",
    "\n",
    "**Introduction**:\n",
    "\n",
    "Performance have always been a concern for a lot of students regardless of education level, whether it be high school, university, or college. Good performance can mean greater opportunities for higher education, awards, and even jobs, so students want to be successful in their courses. However, there's always a disparity in students' performance, which can be seen in grade distributions of exams, homework, etc. It's possible that students' background or how they treat the class affect their performance. This project seeks to see how different factors contribute to students' performance (in particular, final exam score or course grade letter).\n",
    "\n",
    "**Dataset**:\n",
    "\n",
    "Student performance may vary throughout the years due to societal changes, introduction of new technologies (such as ChatGPT), etc. This leads me to choose some of the more recent datasets as possible candidates:\n",
    "\n",
    "https://www.kaggle.com/datasets/lainguyn123/student-performance-factors\n",
    "\n",
    "https://www.kaggle.com/datasets/joebeachcapital/students-performance"
   ]
  },
  {
   "cell_type": "code",
   "execution_count": 1,
   "metadata": {
    "vscode": {
     "languageId": "r"
    }
   },
   "outputs": [
    {
     "name": "stderr",
     "output_type": "stream",
     "text": [
      "-- \u001b[1mAttaching core tidyverse packages\u001b[22m ------------------------ tidyverse 2.0.0 --\n",
      "\u001b[32mv\u001b[39m \u001b[34mdplyr    \u001b[39m 1.1.4     \u001b[32mv\u001b[39m \u001b[34mreadr    \u001b[39m 2.1.5\n",
      "\u001b[32mv\u001b[39m \u001b[34mforcats  \u001b[39m 1.0.0     \u001b[32mv\u001b[39m \u001b[34mstringr  \u001b[39m 1.5.1\n",
      "\u001b[32mv\u001b[39m \u001b[34mggplot2  \u001b[39m 3.5.1     \u001b[32mv\u001b[39m \u001b[34mtibble   \u001b[39m 3.2.1\n",
      "\u001b[32mv\u001b[39m \u001b[34mlubridate\u001b[39m 1.9.4     \u001b[32mv\u001b[39m \u001b[34mtidyr    \u001b[39m 1.3.1\n",
      "\u001b[32mv\u001b[39m \u001b[34mpurrr    \u001b[39m 1.0.4     \n",
      "-- \u001b[1mConflicts\u001b[22m ------------------------------------------ tidyverse_conflicts() --\n",
      "\u001b[31mx\u001b[39m \u001b[34mdplyr\u001b[39m::\u001b[32mfilter()\u001b[39m masks \u001b[34mstats\u001b[39m::filter()\n",
      "\u001b[31mx\u001b[39m \u001b[34mdplyr\u001b[39m::\u001b[32mlag()\u001b[39m    masks \u001b[34mstats\u001b[39m::lag()\n",
      "\u001b[36mi\u001b[39m Use the conflicted package (\u001b[3m\u001b[34m<http://conflicted.r-lib.org/>\u001b[39m\u001b[23m) to force all conflicts to become errors\n"
     ]
    }
   ],
   "source": [
    "library(tidyverse)"
   ]
  },
  {
   "cell_type": "code",
   "execution_count": 2,
   "metadata": {
    "vscode": {
     "languageId": "r"
    }
   },
   "outputs": [
    {
     "data": {
      "text/html": [
       "<table class=\"dataframe\">\n",
       "<caption>A data.frame: 6 x 20</caption>\n",
       "<thead>\n",
       "\t<tr><th></th><th scope=col>Hours_Studied</th><th scope=col>Attendance</th><th scope=col>Parental_Involvement</th><th scope=col>Access_to_Resources</th><th scope=col>Extracurricular_Activities</th><th scope=col>Sleep_Hours</th><th scope=col>Previous_Scores</th><th scope=col>Motivation_Level</th><th scope=col>Internet_Access</th><th scope=col>Tutoring_Sessions</th><th scope=col>Family_Income</th><th scope=col>Teacher_Quality</th><th scope=col>School_Type</th><th scope=col>Peer_Influence</th><th scope=col>Physical_Activity</th><th scope=col>Learning_Disabilities</th><th scope=col>Parental_Education_Level</th><th scope=col>Distance_from_Home</th><th scope=col>Gender</th><th scope=col>Exam_Score</th></tr>\n",
       "\t<tr><th></th><th scope=col>&lt;int&gt;</th><th scope=col>&lt;int&gt;</th><th scope=col>&lt;chr&gt;</th><th scope=col>&lt;chr&gt;</th><th scope=col>&lt;chr&gt;</th><th scope=col>&lt;int&gt;</th><th scope=col>&lt;int&gt;</th><th scope=col>&lt;chr&gt;</th><th scope=col>&lt;chr&gt;</th><th scope=col>&lt;int&gt;</th><th scope=col>&lt;chr&gt;</th><th scope=col>&lt;chr&gt;</th><th scope=col>&lt;chr&gt;</th><th scope=col>&lt;chr&gt;</th><th scope=col>&lt;int&gt;</th><th scope=col>&lt;chr&gt;</th><th scope=col>&lt;chr&gt;</th><th scope=col>&lt;chr&gt;</th><th scope=col>&lt;chr&gt;</th><th scope=col>&lt;int&gt;</th></tr>\n",
       "</thead>\n",
       "<tbody>\n",
       "\t<tr><th scope=row>1</th><td>23</td><td>84</td><td>Low   </td><td>High  </td><td>No </td><td>7</td><td>73</td><td>Low   </td><td>Yes</td><td>0</td><td>Low   </td><td>Medium</td><td>Public</td><td>Positive</td><td>3</td><td>No</td><td>High School </td><td>Near    </td><td>Male  </td><td>67</td></tr>\n",
       "\t<tr><th scope=row>2</th><td>19</td><td>64</td><td>Low   </td><td>Medium</td><td>No </td><td>8</td><td>59</td><td>Low   </td><td>Yes</td><td>2</td><td>Medium</td><td>Medium</td><td>Public</td><td>Negative</td><td>4</td><td>No</td><td>College     </td><td>Moderate</td><td>Female</td><td>61</td></tr>\n",
       "\t<tr><th scope=row>3</th><td>24</td><td>98</td><td>Medium</td><td>Medium</td><td>Yes</td><td>7</td><td>91</td><td>Medium</td><td>Yes</td><td>2</td><td>Medium</td><td>Medium</td><td>Public</td><td>Neutral </td><td>4</td><td>No</td><td>Postgraduate</td><td>Near    </td><td>Male  </td><td>74</td></tr>\n",
       "\t<tr><th scope=row>4</th><td>29</td><td>89</td><td>Low   </td><td>Medium</td><td>Yes</td><td>8</td><td>98</td><td>Medium</td><td>Yes</td><td>1</td><td>Medium</td><td>Medium</td><td>Public</td><td>Negative</td><td>4</td><td>No</td><td>High School </td><td>Moderate</td><td>Male  </td><td>71</td></tr>\n",
       "\t<tr><th scope=row>5</th><td>19</td><td>92</td><td>Medium</td><td>Medium</td><td>Yes</td><td>6</td><td>65</td><td>Medium</td><td>Yes</td><td>3</td><td>Medium</td><td>High  </td><td>Public</td><td>Neutral </td><td>4</td><td>No</td><td>College     </td><td>Near    </td><td>Female</td><td>70</td></tr>\n",
       "\t<tr><th scope=row>6</th><td>19</td><td>88</td><td>Medium</td><td>Medium</td><td>Yes</td><td>8</td><td>89</td><td>Medium</td><td>Yes</td><td>3</td><td>Medium</td><td>Medium</td><td>Public</td><td>Positive</td><td>3</td><td>No</td><td>Postgraduate</td><td>Near    </td><td>Male  </td><td>71</td></tr>\n",
       "</tbody>\n",
       "</table>\n"
      ],
      "text/latex": [
       "A data.frame: 6 x 20\n",
       "\\begin{tabular}{r|llllllllllllllllllll}\n",
       "  & Hours\\_Studied & Attendance & Parental\\_Involvement & Access\\_to\\_Resources & Extracurricular\\_Activities & Sleep\\_Hours & Previous\\_Scores & Motivation\\_Level & Internet\\_Access & Tutoring\\_Sessions & Family\\_Income & Teacher\\_Quality & School\\_Type & Peer\\_Influence & Physical\\_Activity & Learning\\_Disabilities & Parental\\_Education\\_Level & Distance\\_from\\_Home & Gender & Exam\\_Score\\\\\n",
       "  & <int> & <int> & <chr> & <chr> & <chr> & <int> & <int> & <chr> & <chr> & <int> & <chr> & <chr> & <chr> & <chr> & <int> & <chr> & <chr> & <chr> & <chr> & <int>\\\\\n",
       "\\hline\n",
       "\t1 & 23 & 84 & Low    & High   & No  & 7 & 73 & Low    & Yes & 0 & Low    & Medium & Public & Positive & 3 & No & High School  & Near     & Male   & 67\\\\\n",
       "\t2 & 19 & 64 & Low    & Medium & No  & 8 & 59 & Low    & Yes & 2 & Medium & Medium & Public & Negative & 4 & No & College      & Moderate & Female & 61\\\\\n",
       "\t3 & 24 & 98 & Medium & Medium & Yes & 7 & 91 & Medium & Yes & 2 & Medium & Medium & Public & Neutral  & 4 & No & Postgraduate & Near     & Male   & 74\\\\\n",
       "\t4 & 29 & 89 & Low    & Medium & Yes & 8 & 98 & Medium & Yes & 1 & Medium & Medium & Public & Negative & 4 & No & High School  & Moderate & Male   & 71\\\\\n",
       "\t5 & 19 & 92 & Medium & Medium & Yes & 6 & 65 & Medium & Yes & 3 & Medium & High   & Public & Neutral  & 4 & No & College      & Near     & Female & 70\\\\\n",
       "\t6 & 19 & 88 & Medium & Medium & Yes & 8 & 89 & Medium & Yes & 3 & Medium & Medium & Public & Positive & 3 & No & Postgraduate & Near     & Male   & 71\\\\\n",
       "\\end{tabular}\n"
      ],
      "text/markdown": [
       "\n",
       "A data.frame: 6 x 20\n",
       "\n",
       "| <!--/--> | Hours_Studied &lt;int&gt; | Attendance &lt;int&gt; | Parental_Involvement &lt;chr&gt; | Access_to_Resources &lt;chr&gt; | Extracurricular_Activities &lt;chr&gt; | Sleep_Hours &lt;int&gt; | Previous_Scores &lt;int&gt; | Motivation_Level &lt;chr&gt; | Internet_Access &lt;chr&gt; | Tutoring_Sessions &lt;int&gt; | Family_Income &lt;chr&gt; | Teacher_Quality &lt;chr&gt; | School_Type &lt;chr&gt; | Peer_Influence &lt;chr&gt; | Physical_Activity &lt;int&gt; | Learning_Disabilities &lt;chr&gt; | Parental_Education_Level &lt;chr&gt; | Distance_from_Home &lt;chr&gt; | Gender &lt;chr&gt; | Exam_Score &lt;int&gt; |\n",
       "|---|---|---|---|---|---|---|---|---|---|---|---|---|---|---|---|---|---|---|---|---|\n",
       "| 1 | 23 | 84 | Low    | High   | No  | 7 | 73 | Low    | Yes | 0 | Low    | Medium | Public | Positive | 3 | No | High School  | Near     | Male   | 67 |\n",
       "| 2 | 19 | 64 | Low    | Medium | No  | 8 | 59 | Low    | Yes | 2 | Medium | Medium | Public | Negative | 4 | No | College      | Moderate | Female | 61 |\n",
       "| 3 | 24 | 98 | Medium | Medium | Yes | 7 | 91 | Medium | Yes | 2 | Medium | Medium | Public | Neutral  | 4 | No | Postgraduate | Near     | Male   | 74 |\n",
       "| 4 | 29 | 89 | Low    | Medium | Yes | 8 | 98 | Medium | Yes | 1 | Medium | Medium | Public | Negative | 4 | No | High School  | Moderate | Male   | 71 |\n",
       "| 5 | 19 | 92 | Medium | Medium | Yes | 6 | 65 | Medium | Yes | 3 | Medium | High   | Public | Neutral  | 4 | No | College      | Near     | Female | 70 |\n",
       "| 6 | 19 | 88 | Medium | Medium | Yes | 8 | 89 | Medium | Yes | 3 | Medium | Medium | Public | Positive | 3 | No | Postgraduate | Near     | Male   | 71 |\n",
       "\n"
      ],
      "text/plain": [
       "  Hours_Studied Attendance Parental_Involvement Access_to_Resources\n",
       "1 23            84         Low                  High               \n",
       "2 19            64         Low                  Medium             \n",
       "3 24            98         Medium               Medium             \n",
       "4 29            89         Low                  Medium             \n",
       "5 19            92         Medium               Medium             \n",
       "6 19            88         Medium               Medium             \n",
       "  Extracurricular_Activities Sleep_Hours Previous_Scores Motivation_Level\n",
       "1 No                         7           73              Low             \n",
       "2 No                         8           59              Low             \n",
       "3 Yes                        7           91              Medium          \n",
       "4 Yes                        8           98              Medium          \n",
       "5 Yes                        6           65              Medium          \n",
       "6 Yes                        8           89              Medium          \n",
       "  Internet_Access Tutoring_Sessions Family_Income Teacher_Quality School_Type\n",
       "1 Yes             0                 Low           Medium          Public     \n",
       "2 Yes             2                 Medium        Medium          Public     \n",
       "3 Yes             2                 Medium        Medium          Public     \n",
       "4 Yes             1                 Medium        Medium          Public     \n",
       "5 Yes             3                 Medium        High            Public     \n",
       "6 Yes             3                 Medium        Medium          Public     \n",
       "  Peer_Influence Physical_Activity Learning_Disabilities\n",
       "1 Positive       3                 No                   \n",
       "2 Negative       4                 No                   \n",
       "3 Neutral        4                 No                   \n",
       "4 Negative       4                 No                   \n",
       "5 Neutral        4                 No                   \n",
       "6 Positive       3                 No                   \n",
       "  Parental_Education_Level Distance_from_Home Gender Exam_Score\n",
       "1 High School              Near               Male   67        \n",
       "2 College                  Moderate           Female 61        \n",
       "3 Postgraduate             Near               Male   74        \n",
       "4 High School              Moderate           Male   71        \n",
       "5 College                  Near               Female 70        \n",
       "6 Postgraduate             Near               Male   71        "
      ]
     },
     "metadata": {},
     "output_type": "display_data"
    }
   ],
   "source": [
    "dataset_1 <- read.csv(\"StudentPerformanceFactors.csv\")\n",
    "head(dataset_1)"
   ]
  },
  {
   "cell_type": "code",
   "execution_count": 3,
   "metadata": {
    "vscode": {
     "languageId": "r"
    }
   },
   "outputs": [
    {
     "data": {
      "text/html": [
       "<table class=\"dataframe\">\n",
       "<caption>A data.frame: 6 x 33</caption>\n",
       "<thead>\n",
       "\t<tr><th></th><th scope=col>STUDENT.ID</th><th scope=col>Student.Age</th><th scope=col>Sex</th><th scope=col>Graduated.high.school.type</th><th scope=col>Scholarship.type</th><th scope=col>Additional.work</th><th scope=col>Regular.artistic.or.sports.activity</th><th scope=col>Do.you.have.a.partner</th><th scope=col>Total.salary.if.available</th><th scope=col>Transportation.to.the.university</th><th scope=col>...</th><th scope=col>Preparation.to.midterm.exams.1</th><th scope=col>Preparation.to.midterm.exams.2</th><th scope=col>Taking.notes.in.classes</th><th scope=col>Listening.in.classes</th><th scope=col>Discussion.improves.my.interest.and.success.in.the.course</th><th scope=col>Flip.classroom</th><th scope=col>Cumulative.grade.point.average.in.the.last.semester...4.00.</th><th scope=col>Expected.Cumulative.grade.point.average.in.the.graduation...4.00.</th><th scope=col>COURSE.ID</th><th scope=col>GRADE</th></tr>\n",
       "\t<tr><th></th><th scope=col>&lt;chr&gt;</th><th scope=col>&lt;int&gt;</th><th scope=col>&lt;int&gt;</th><th scope=col>&lt;int&gt;</th><th scope=col>&lt;int&gt;</th><th scope=col>&lt;int&gt;</th><th scope=col>&lt;int&gt;</th><th scope=col>&lt;int&gt;</th><th scope=col>&lt;int&gt;</th><th scope=col>&lt;int&gt;</th><th scope=col>...</th><th scope=col>&lt;int&gt;</th><th scope=col>&lt;int&gt;</th><th scope=col>&lt;int&gt;</th><th scope=col>&lt;int&gt;</th><th scope=col>&lt;int&gt;</th><th scope=col>&lt;int&gt;</th><th scope=col>&lt;int&gt;</th><th scope=col>&lt;int&gt;</th><th scope=col>&lt;int&gt;</th><th scope=col>&lt;int&gt;</th></tr>\n",
       "</thead>\n",
       "<tbody>\n",
       "\t<tr><th scope=row>1</th><td>STUDENT1</td><td>2</td><td>2</td><td>3</td><td>3</td><td>1</td><td>2</td><td>2</td><td>1</td><td>1</td><td>...</td><td>1</td><td>1</td><td>3</td><td>2</td><td>1</td><td>2</td><td>1</td><td>1</td><td>1</td><td>1</td></tr>\n",
       "\t<tr><th scope=row>2</th><td>STUDENT2</td><td>2</td><td>2</td><td>3</td><td>3</td><td>1</td><td>2</td><td>2</td><td>1</td><td>1</td><td>...</td><td>1</td><td>1</td><td>3</td><td>2</td><td>3</td><td>2</td><td>2</td><td>3</td><td>1</td><td>1</td></tr>\n",
       "\t<tr><th scope=row>3</th><td>STUDENT3</td><td>2</td><td>2</td><td>2</td><td>3</td><td>2</td><td>2</td><td>2</td><td>2</td><td>4</td><td>...</td><td>1</td><td>1</td><td>2</td><td>2</td><td>1</td><td>1</td><td>2</td><td>2</td><td>1</td><td>1</td></tr>\n",
       "\t<tr><th scope=row>4</th><td>STUDENT4</td><td>1</td><td>1</td><td>1</td><td>3</td><td>1</td><td>2</td><td>1</td><td>2</td><td>1</td><td>...</td><td>1</td><td>2</td><td>3</td><td>2</td><td>2</td><td>1</td><td>3</td><td>2</td><td>1</td><td>1</td></tr>\n",
       "\t<tr><th scope=row>5</th><td>STUDENT5</td><td>2</td><td>2</td><td>1</td><td>3</td><td>2</td><td>2</td><td>1</td><td>3</td><td>1</td><td>...</td><td>2</td><td>1</td><td>2</td><td>2</td><td>2</td><td>1</td><td>2</td><td>2</td><td>1</td><td>1</td></tr>\n",
       "\t<tr><th scope=row>6</th><td>STUDENT6</td><td>2</td><td>2</td><td>2</td><td>3</td><td>2</td><td>2</td><td>2</td><td>2</td><td>1</td><td>...</td><td>1</td><td>1</td><td>1</td><td>2</td><td>1</td><td>2</td><td>4</td><td>4</td><td>1</td><td>2</td></tr>\n",
       "</tbody>\n",
       "</table>\n"
      ],
      "text/latex": [
       "A data.frame: 6 x 33\n",
       "\\begin{tabular}{r|lllllllllllllllllllll}\n",
       "  & STUDENT.ID & Student.Age & Sex & Graduated.high.school.type & Scholarship.type & Additional.work & Regular.artistic.or.sports.activity & Do.you.have.a.partner & Total.salary.if.available & Transportation.to.the.university & ... & Preparation.to.midterm.exams.1 & Preparation.to.midterm.exams.2 & Taking.notes.in.classes & Listening.in.classes & Discussion.improves.my.interest.and.success.in.the.course & Flip.classroom & Cumulative.grade.point.average.in.the.last.semester...4.00. & Expected.Cumulative.grade.point.average.in.the.graduation...4.00. & COURSE.ID & GRADE\\\\\n",
       "  & <chr> & <int> & <int> & <int> & <int> & <int> & <int> & <int> & <int> & <int> & ... & <int> & <int> & <int> & <int> & <int> & <int> & <int> & <int> & <int> & <int>\\\\\n",
       "\\hline\n",
       "\t1 & STUDENT1 & 2 & 2 & 3 & 3 & 1 & 2 & 2 & 1 & 1 & ... & 1 & 1 & 3 & 2 & 1 & 2 & 1 & 1 & 1 & 1\\\\\n",
       "\t2 & STUDENT2 & 2 & 2 & 3 & 3 & 1 & 2 & 2 & 1 & 1 & ... & 1 & 1 & 3 & 2 & 3 & 2 & 2 & 3 & 1 & 1\\\\\n",
       "\t3 & STUDENT3 & 2 & 2 & 2 & 3 & 2 & 2 & 2 & 2 & 4 & ... & 1 & 1 & 2 & 2 & 1 & 1 & 2 & 2 & 1 & 1\\\\\n",
       "\t4 & STUDENT4 & 1 & 1 & 1 & 3 & 1 & 2 & 1 & 2 & 1 & ... & 1 & 2 & 3 & 2 & 2 & 1 & 3 & 2 & 1 & 1\\\\\n",
       "\t5 & STUDENT5 & 2 & 2 & 1 & 3 & 2 & 2 & 1 & 3 & 1 & ... & 2 & 1 & 2 & 2 & 2 & 1 & 2 & 2 & 1 & 1\\\\\n",
       "\t6 & STUDENT6 & 2 & 2 & 2 & 3 & 2 & 2 & 2 & 2 & 1 & ... & 1 & 1 & 1 & 2 & 1 & 2 & 4 & 4 & 1 & 2\\\\\n",
       "\\end{tabular}\n"
      ],
      "text/markdown": [
       "\n",
       "A data.frame: 6 x 33\n",
       "\n",
       "| <!--/--> | STUDENT.ID &lt;chr&gt; | Student.Age &lt;int&gt; | Sex &lt;int&gt; | Graduated.high.school.type &lt;int&gt; | Scholarship.type &lt;int&gt; | Additional.work &lt;int&gt; | Regular.artistic.or.sports.activity &lt;int&gt; | Do.you.have.a.partner &lt;int&gt; | Total.salary.if.available &lt;int&gt; | Transportation.to.the.university &lt;int&gt; | ... ... | Preparation.to.midterm.exams.1 &lt;int&gt; | Preparation.to.midterm.exams.2 &lt;int&gt; | Taking.notes.in.classes &lt;int&gt; | Listening.in.classes &lt;int&gt; | Discussion.improves.my.interest.and.success.in.the.course &lt;int&gt; | Flip.classroom &lt;int&gt; | Cumulative.grade.point.average.in.the.last.semester...4.00. &lt;int&gt; | Expected.Cumulative.grade.point.average.in.the.graduation...4.00. &lt;int&gt; | COURSE.ID &lt;int&gt; | GRADE &lt;int&gt; |\n",
       "|---|---|---|---|---|---|---|---|---|---|---|---|---|---|---|---|---|---|---|---|---|---|\n",
       "| 1 | STUDENT1 | 2 | 2 | 3 | 3 | 1 | 2 | 2 | 1 | 1 | ... | 1 | 1 | 3 | 2 | 1 | 2 | 1 | 1 | 1 | 1 |\n",
       "| 2 | STUDENT2 | 2 | 2 | 3 | 3 | 1 | 2 | 2 | 1 | 1 | ... | 1 | 1 | 3 | 2 | 3 | 2 | 2 | 3 | 1 | 1 |\n",
       "| 3 | STUDENT3 | 2 | 2 | 2 | 3 | 2 | 2 | 2 | 2 | 4 | ... | 1 | 1 | 2 | 2 | 1 | 1 | 2 | 2 | 1 | 1 |\n",
       "| 4 | STUDENT4 | 1 | 1 | 1 | 3 | 1 | 2 | 1 | 2 | 1 | ... | 1 | 2 | 3 | 2 | 2 | 1 | 3 | 2 | 1 | 1 |\n",
       "| 5 | STUDENT5 | 2 | 2 | 1 | 3 | 2 | 2 | 1 | 3 | 1 | ... | 2 | 1 | 2 | 2 | 2 | 1 | 2 | 2 | 1 | 1 |\n",
       "| 6 | STUDENT6 | 2 | 2 | 2 | 3 | 2 | 2 | 2 | 2 | 1 | ... | 1 | 1 | 1 | 2 | 1 | 2 | 4 | 4 | 1 | 2 |\n",
       "\n"
      ],
      "text/plain": [
       "  STUDENT.ID Student.Age Sex Graduated.high.school.type Scholarship.type\n",
       "1 STUDENT1   2           2   3                          3               \n",
       "2 STUDENT2   2           2   3                          3               \n",
       "3 STUDENT3   2           2   2                          3               \n",
       "4 STUDENT4   1           1   1                          3               \n",
       "5 STUDENT5   2           2   1                          3               \n",
       "6 STUDENT6   2           2   2                          3               \n",
       "  Additional.work Regular.artistic.or.sports.activity Do.you.have.a.partner\n",
       "1 1               2                                   2                    \n",
       "2 1               2                                   2                    \n",
       "3 2               2                                   2                    \n",
       "4 1               2                                   1                    \n",
       "5 2               2                                   1                    \n",
       "6 2               2                                   2                    \n",
       "  Total.salary.if.available Transportation.to.the.university ...\n",
       "1 1                         1                                ...\n",
       "2 1                         1                                ...\n",
       "3 2                         4                                ...\n",
       "4 2                         1                                ...\n",
       "5 3                         1                                ...\n",
       "6 2                         1                                ...\n",
       "  Preparation.to.midterm.exams.1 Preparation.to.midterm.exams.2\n",
       "1 1                              1                             \n",
       "2 1                              1                             \n",
       "3 1                              1                             \n",
       "4 1                              2                             \n",
       "5 2                              1                             \n",
       "6 1                              1                             \n",
       "  Taking.notes.in.classes Listening.in.classes\n",
       "1 3                       2                   \n",
       "2 3                       2                   \n",
       "3 2                       2                   \n",
       "4 3                       2                   \n",
       "5 2                       2                   \n",
       "6 1                       2                   \n",
       "  Discussion.improves.my.interest.and.success.in.the.course Flip.classroom\n",
       "1 1                                                         2             \n",
       "2 3                                                         2             \n",
       "3 1                                                         1             \n",
       "4 2                                                         1             \n",
       "5 2                                                         1             \n",
       "6 1                                                         2             \n",
       "  Cumulative.grade.point.average.in.the.last.semester...4.00.\n",
       "1 1                                                          \n",
       "2 2                                                          \n",
       "3 2                                                          \n",
       "4 3                                                          \n",
       "5 2                                                          \n",
       "6 4                                                          \n",
       "  Expected.Cumulative.grade.point.average.in.the.graduation...4.00. COURSE.ID\n",
       "1 1                                                                 1        \n",
       "2 3                                                                 1        \n",
       "3 2                                                                 1        \n",
       "4 2                                                                 1        \n",
       "5 2                                                                 1        \n",
       "6 4                                                                 1        \n",
       "  GRADE\n",
       "1 1    \n",
       "2 1    \n",
       "3 1    \n",
       "4 1    \n",
       "5 1    \n",
       "6 2    "
      ]
     },
     "metadata": {},
     "output_type": "display_data"
    }
   ],
   "source": [
    "dataset_2 <- read.csv(\"StudentsPerformance_with_headers.csv\")\n",
    "head(dataset_2)"
   ]
  },
  {
   "cell_type": "markdown",
   "metadata": {},
   "source": [
    "**Approaches**:\n",
    "\n",
    "Overall, the dataset contains a lot of discrete variables. For example, in the 2nd dataset, student age tends to be mostly 2, but this describes the range of 22-25 instead.\n",
    "\n",
    "I can start simple with a comparative study of different types of regression using frequentist and Bayesian approach. I can do a comparative study on traditional (without penalty) and regularized regression for each approach. For frequentist approach, I can start by optimizing the number of variables used for regression through removing collinearity (i.e. we can use forward selection along with VIF analysis). I would expect to see regularized model to perform at least as well on predicting data due to the extra penalty added.\n",
    "\n",
    "For Bayesian approach, we can use hierarchical model. It happens that we can treat the regularizer term as a prior, since it controls how much information we can learn from data, whereas frequentist approach will include an extra term as penalty value. \n",
    "\n",
    "If given enough time, I can also study interaction effects, but I can achieve a (hopefully) reasonable multilinear regression model.\n",
    "\n",
    "**References**:\n",
    "https://haines-lab.com/post/on-the-equivalency-between-the-lasso-ridge-regression-and-specific-bayesian-priors/"
   ]
  },
  {
   "cell_type": "markdown",
   "metadata": {},
   "source": []
  }
 ],
 "metadata": {
  "kernelspec": {
   "display_name": "R",
   "language": "R",
   "name": "ir"
  },
  "language_info": {
   "codemirror_mode": "r",
   "file_extension": ".r",
   "mimetype": "text/x-r-source",
   "name": "R",
   "pygments_lexer": "r",
   "version": "4.4.1"
  }
 },
 "nbformat": 4,
 "nbformat_minor": 2
}
